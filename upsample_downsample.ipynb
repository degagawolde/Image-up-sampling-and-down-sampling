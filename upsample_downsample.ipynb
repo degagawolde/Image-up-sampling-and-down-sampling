{
 "cells": [
  {
   "cell_type": "code",
   "execution_count": 93,
   "metadata": {},
   "outputs": [],
   "source": [
    "import numpy as np\n",
    "import scipy as sp\n",
    "import scipy.signal \n",
    "import cv2\n",
    "import os\n",
    "import matplotlib.pyplot as plt\n",
    "import imageio\n",
    "MIN_DEPTH = 4"
   ]
  },
  {
   "cell_type": "code",
   "execution_count": 94,
   "metadata": {},
   "outputs": [],
   "source": [
    "linear = np.array([[0.250], [0.50], [0.250]])\n",
    "binomial = np.array([[0.0625], [0.2500],[0.3750], [0.2500], [0.0625]])\n",
    "cubic_01 =  np.array([[-0.0625], [0.0000], [0.3125],[0.5000], [0.3125], [0.0000], [-0.0625]])\n",
    "cubic_05 = np.array([ [-0.03125], [0.0000],[0.28125],[0.5000], [0.28125], [0.0000], [-0.03125]])\n",
    "windsinc =  np.array([[0.0000],[-0.0153],[0.0000],[0.2684],[0.4939], [0.2684], [0.0000], [-0.0153], [0.0000]])\n",
    "qmf_9 =  np.array([[0.0198],[-0.0431],[-0.0519],[0.2932],[0.5638], [0.2932], [-0.0519], [-0.0431] , [0.0198]])\n",
    "jpeg =  np.array([[0.0267],[-0.0169],[-0.0782],[0.2669],[0.6029], [0.2669], [-0.0782], [-0.0169], [0.0267]]) "
   ]
  },
  {
   "cell_type": "code",
   "execution_count": 95,
   "metadata": {},
   "outputs": [],
   "source": [
    "def generatingKernel(kernel):\n",
    "#     kernel = np.array([0.25-a/2.0, 0.25,a, 0.25,0.25-a/2.0])\n",
    "    return np.outer(kernel,kernel)"
   ]
  },
  {
   "cell_type": "code",
   "execution_count": 96,
   "metadata": {},
   "outputs": [],
   "source": [
    "def reduce(image, kernel):\n",
    "    \n",
    "    p = int(kernel.shape[0]/2)\n",
    "    img_h, img_w, C = image.shape\n",
    "    #padding\n",
    "    img_pad = cv2.copyMakeBorder(image,p,p,p,p, borderType = cv2.BORDER_REFLECT_101)\n",
    "    # convolution\n",
    "    img_conv =  scipy.signal.convolve(img_pad, kernel[:, :, np.newaxis], mode='valid')\n",
    "\n",
    "    #subsampling\n",
    "    img_sub = img_conv[::2,::2]\n",
    "    return img_sub"
   ]
  },
  {
   "cell_type": "code",
   "execution_count": 97,
   "metadata": {},
   "outputs": [],
   "source": [
    "def expand(image, kernel):\n",
    "    img_up = image.copy()\n",
    "    \n",
    "    for r in range(1,image.shape[0]*2,2):\n",
    "        img_up = np.insert(img_up,r,0,axis=0)\n",
    "    for c in range(1,image.shape[1]*2,2):\n",
    "        img_up = np.insert(img_up,c,0,axis=1)\n",
    "    \n",
    "    #padding\n",
    "    p = int(kernel.shape[0]/2)\n",
    "    img_pad = cv2.copyMakeBorder(img_up,p,p,p,p, borderType=cv2.BORDER_REFLECT_101)\n",
    "    #convolution\n",
    "    img_conv =  scipy.signal.convolve(img_pad, kernel[:, :, np.newaxis], mode='valid')\n",
    "    # Brightness correction\n",
    "    img_final = img_conv*4\n",
    "    return img_final "
   ]
  },
  {
   "cell_type": "code",
   "execution_count": 98,
   "metadata": {},
   "outputs": [],
   "source": [
    "def normalize(img):\n",
    "    return cv2.normalize(img,None,alpha=0,beta=255, norm_type = cv2.NORM_MINMAX)"
   ]
  },
  {
   "cell_type": "code",
   "execution_count": 99,
   "metadata": {},
   "outputs": [],
   "source": [
    "def downsample(image,kernel,levels):\n",
    "    kernel = generatingKernel(kernel)\n",
    "    downsampled = [image.astype(np.float)]\n",
    "    for level in range(levels):\n",
    "        new_layer = reduce(downsampled[level],kernel).astype(np.float)\n",
    "        new_layer = normalize(new_layer)\n",
    "        downsampled.append(new_layer)\n",
    "        \n",
    "    return downsampled\n",
    "\n",
    "def upsample(img, kernel, levels):\n",
    "    kernel = generatingKernel(kernel)\n",
    "    upsampled = [img.astype(np.float)]\n",
    "    for level in range(levels):\n",
    "        new_layer = expand(upsampled[level],kernel).astype(np.float)\n",
    "        new_layer = normalize(new_layer)\n",
    "        upsampled.append(new_layer)\n",
    "        \n",
    "    return  upsampled"
   ]
  },
  {
   "cell_type": "code",
   "execution_count": 100,
   "metadata": {},
   "outputs": [],
   "source": [
    "image = cv2.imread('cycles.jpg')\n",
    "image = cv2.cvtColor(image,cv2.COLOR_BGR2RGB)\n",
    "np.warnings.filterwarnings('ignore', category=np.VisibleDeprecationWarning)\n"
   ]
  },
  {
   "cell_type": "code",
   "execution_count": 101,
   "metadata": {},
   "outputs": [],
   "source": [
    "upsampled_images = []\n",
    "liner_images = upsample(image, linear, 4)\n",
    "binomial_images = upsample(image, binomial, 4)\n",
    "cubic_05_images = upsample(image, cubic_05, 4)\n",
    "windsinc_images = upsample(image, windsinc, 4)"
   ]
  },
  {
   "cell_type": "code",
   "execution_count": 107,
   "metadata": {},
   "outputs": [],
   "source": [
    "upsampled_images = []\n",
    "for i in range(2):\n",
    "    upsampled_images.append(liner_images[i].astype(np.uint8))\n",
    "    upsampled_images.append(np.zeros((50,50),  dtype=np.uint8))\n",
    "    upsampled_images.append(binomial_images[i].astype(np.uint8))\n",
    "    upsampled_images.append(np.zeros((50,50), dtype=np.uint8))\n",
    "    upsampled_images.append(cubic_05_images[i].astype(np.uint8))\n",
    "    upsampled_images.append(np.zeros((50,50), dtype=np.uint8))\n",
    "    upsampled_images.append(cubic_05_images[i].astype(np.uint8))\n",
    "    "
   ]
  },
  {
   "cell_type": "code",
   "execution_count": 108,
   "metadata": {},
   "outputs": [],
   "source": [
    "imageio.mimsave('./movieup.gif', upsampled_images, fps = 1)"
   ]
  },
  {
   "cell_type": "code",
   "execution_count": 109,
   "metadata": {},
   "outputs": [],
   "source": [
    "liner_images = downsample(image, linear, 4)\n",
    "binomial_images = downsample(image, binomial, 4)\n",
    "cubic_05_images = downsample(image, cubic_05, 4)\n",
    "windsinc_images = downsample(image, windsinc, 4)\n"
   ]
  },
  {
   "cell_type": "code",
   "execution_count": 110,
   "metadata": {},
   "outputs": [],
   "source": [
    "downsampled_images = []\n",
    "for i in range(4):\n",
    "    downsampled_images.append(liner_images[i].astype(np.uint8))\n",
    "    downsampled_images.append(np.zeros((50,50),  dtype=np.uint8))\n",
    "    downsampled_images.append(binomial_images[i].astype(np.uint8))\n",
    "    downsampled_images.append(np.zeros((50,50), dtype=np.uint8))\n",
    "    downsampled_images.append(cubic_05_images[i].astype(np.uint8))\n",
    "    downsampled_images.append(np.zeros((50,50), dtype=np.uint8))\n",
    "    downsampled_images.append(cubic_05_images[i].astype(np.uint8))\n",
    "    "
   ]
  },
  {
   "cell_type": "code",
   "execution_count": 111,
   "metadata": {},
   "outputs": [],
   "source": [
    "imageio.mimsave('./moviedown.gif', downsampled_images, fps = 1)"
   ]
  },
  {
   "cell_type": "code",
   "execution_count": null,
   "metadata": {},
   "outputs": [],
   "source": []
  }
 ],
 "metadata": {
  "kernelspec": {
   "display_name": "Python 3",
   "language": "python",
   "name": "python3"
  },
  "language_info": {
   "codemirror_mode": {
    "name": "ipython",
    "version": 3
   },
   "file_extension": ".py",
   "mimetype": "text/x-python",
   "name": "python",
   "nbconvert_exporter": "python",
   "pygments_lexer": "ipython3",
   "version": "3.8.5"
  }
 },
 "nbformat": 4,
 "nbformat_minor": 4
}
